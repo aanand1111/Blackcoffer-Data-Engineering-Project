{
 "cells": [
  {
   "cell_type": "code",
   "execution_count": 26,
   "id": "0e4f12b3-d68e-4c3e-9c7d-19261d28b0ff",
   "metadata": {},
   "outputs": [
    {
     "name": "stderr",
     "output_type": "stream",
     "text": [
      "[nltk_data] Downloading package averaged_perceptron_tagger to\n",
      "[nltk_data]     C:\\Users\\ASUS\\AppData\\Roaming\\nltk_data...\n",
      "[nltk_data]   Package averaged_perceptron_tagger is already up-to-\n",
      "[nltk_data]       date!\n"
     ]
    },
    {
     "name": "stdout",
     "output_type": "stream",
     "text": [
      "[{'neg': 0.008, 'neu': 0.829, 'pos': 0.163, 'compound': 0.9993}, {'neg': 0.038, 'neu': 0.821, 'pos': 0.141, 'compound': 0.9993}]\n"
     ]
    }
   ],
   "source": [
    "import nltk\n",
    "from nltk.corpus import stopwords\n",
    "from nltk.sentiment.vader import SentimentIntensityAnalyzer\n",
    "from urllib.request import urlopen\n",
    "from bs4 import BeautifulSoup\n",
    "\n",
    "# Download the averaged_perceptron_tagger resource\n",
    "nltk.download('averaged_perceptron_tagger')\n",
    "\n",
    "# Function to extract text from a URL\n",
    "def extract_text(url):\n",
    "    response = urlopen(url)\n",
    "    soup = BeautifulSoup(response, 'html.parser')\n",
    "    text = soup.get_text()\n",
    "    return text\n",
    "\n",
    "# List of URLs\n",
    "urls = ['https://insights.blackcoffer.com/human-rights-outlook/', 'https://insights.blackcoffer.com/impacts-of-covid-19-on-streets-sides-food-stalls/']\n",
    "\n",
    "# Text analysis\n",
    "sia = SentimentIntensityAnalyzer()\n",
    "stop_words = set(stopwords.words('english'))\n",
    "\n",
    "# Create an empty list to store the variables\n",
    "variables = []\n",
    "\n",
    "# Iterate over each URL\n",
    "for url in urls:\n",
    "    # Extract the text from the URL\n",
    "    text = extract_text(url)\n",
    "    \n",
    "    # Tokenize the text\n",
    "    tokens = nltk.word_tokenize(text)\n",
    "    \n",
    "    # Remove the stop words from the tokens\n",
    "    cleaned_tokens = [word for word in tokens if word not in stop_words]\n",
    "    \n",
    "    # Tag the cleaned tokens with their part-of-speech (POS) information\n",
    "    tagged_tokens = nltk.pos_tag(cleaned_tokens)\n",
    "    \n",
    "    # Analyze the sentiment of the tagged tokens\n",
    "    sentiment = sia.polarity_scores(' '.join(cleaned_tokens))\n",
    "    \n",
    "    # Store the result in the variables list\n",
    "    variables.append(sentiment)\n",
    "\n",
    "print(variables)"
   ]
  },
  {
   "cell_type": "code",
   "execution_count": null,
   "id": "9310d3b9-b7da-4223-98cb-3606cbb0b593",
   "metadata": {},
   "outputs": [],
   "source": []
  },
  {
   "cell_type": "code",
   "execution_count": null,
   "id": "481b1220-f100-4394-9a6b-19979fb96b6e",
   "metadata": {},
   "outputs": [],
   "source": []
  }
 ],
 "metadata": {
  "kernelspec": {
   "display_name": "Python 3 (ipykernel)",
   "language": "python",
   "name": "python3"
  },
  "language_info": {
   "codemirror_mode": {
    "name": "ipython",
    "version": 3
   },
   "file_extension": ".py",
   "mimetype": "text/x-python",
   "name": "python",
   "nbconvert_exporter": "python",
   "pygments_lexer": "ipython3",
   "version": "3.12.2"
  }
 },
 "nbformat": 4,
 "nbformat_minor": 5
}
