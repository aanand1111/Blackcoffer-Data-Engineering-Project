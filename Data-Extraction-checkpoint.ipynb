{
 "cells": [
  {
   "cell_type": "code",
   "execution_count": 1,
   "id": "65ff0fd0-9171-41a8-9109-64cf7cf0dfcd",
   "metadata": {},
   "outputs": [],
   "source": [
    "import requests\n",
    "from bs4 import BeautifulSoup\n",
    "import pandas as pd\n",
    "\n"
   ]
  },
  {
   "cell_type": "code",
   "execution_count": 2,
   "id": "c95549fa-7bcc-43cd-ab0f-b8be7929cdf5",
   "metadata": {},
   "outputs": [],
   "source": [
    "# Load the URLs from the input.xlsx file\n",
    "df = pd.read_excel('input.xlsx')\n",
    "urls = df['URL'].tolist()"
   ]
  },
  {
   "cell_type": "code",
   "execution_count": 4,
   "id": "55c80577-2df0-41e0-a62e-32d064ec940d",
   "metadata": {},
   "outputs": [
    {
     "name": "stdout",
     "output_type": "stream",
     "text": [
      "No <h1> tag found for URL 35: https://insights.blackcoffer.com/how-neural-networks-can-be-applied-in-various-areas-in-the-future/\n",
      "No <h1> tag found for URL 48: https://insights.blackcoffer.com/covid-19-environmental-impact-for-the-future/\n"
     ]
    }
   ],
   "source": [
    "# Loop through the URLs and extract the article text\n",
    "for i, url in enumerate(urls):\n",
    "    # Send an HTTP request to the URL\n",
    "    response = requests.get(url)\n",
    "\n",
    "    # Parse the HTML content using BeautifulSoup\n",
    "    soup = BeautifulSoup(response.content, 'html.parser')\n",
    "\n",
    "    # Extract the article title and text\n",
    "    h1 = soup.find('h1')\n",
    "    if h1:\n",
    "        title = h1.text.strip()\n",
    "        text = ''\n",
    "        for p in soup.find_all('p'):\n",
    "            text += p.text.strip() + '\\n'\n",
    "\n",
    "        # Save the extracted article in a text file with the URL ID as its file name\n",
    "        with open(f'{i}.txt', 'w', encoding='utf-8') as f:\n",
    "            f.write(title + '\\n\\n' + text)\n",
    "    else:\n",
    "        print(f'No <h1> tag found for URL {i}: {url}')"
   ]
  },
  {
   "cell_type": "code",
   "execution_count": null,
   "id": "39856934-0f84-49c4-9331-698e94037086",
   "metadata": {},
   "outputs": [],
   "source": [
    "\n",
    "# Loop through the URLs and extract the article text\n",
    "for i, url in enumerate(urls):\n",
    "    # Send an HTTP request to the URL\n",
    "    response = requests.get(url)\n",
    "\n",
    "    # Parse the HTML content using BeautifulSoup\n",
    "    soup = BeautifulSoup(response.content, 'html.parser')\n",
    "\n",
    "    # Extract the article title and text\n",
    "    h1 = soup.find('h1')\n",
    "    if h1:\n",
    "        title = h1.text.strip()\n",
    "        text = ''\n",
    "        for p in soup.find_all('p'):\n",
    "            text += p.text.strip() + '\\n'\n",
    "\n",
    "        # Save the extracted article in a text file with the URL ID as its file name\n",
    "        with open(f'{i}.txt', 'w', encoding='utf-8') as f:\n",
    "            f.write(title + '\\n\\n' + text)\n",
    "    else:\n",
    "        print(f'No <h1> tag found for URL {i}: {url}')"
   ]
  }
 ],
 "metadata": {
  "kernelspec": {
   "display_name": "Python 3 (ipykernel)",
   "language": "python",
   "name": "python3"
  },
  "language_info": {
   "codemirror_mode": {
    "name": "ipython",
    "version": 3
   },
   "file_extension": ".py",
   "mimetype": "text/x-python",
   "name": "python",
   "nbconvert_exporter": "python",
   "pygments_lexer": "ipython3",
   "version": "3.12.2"
  }
 },
 "nbformat": 4,
 "nbformat_minor": 5
}
